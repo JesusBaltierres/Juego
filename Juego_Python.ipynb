{
  "nbformat": 4,
  "nbformat_minor": 0,
  "metadata": {
    "colab": {
      "provenance": [],
      "include_colab_link": true
    },
    "kernelspec": {
      "name": "python3",
      "display_name": "Python 3"
    },
    "language_info": {
      "name": "python"
    }
  },
  "cells": [
    {
      "cell_type": "markdown",
      "metadata": {
        "id": "view-in-github",
        "colab_type": "text"
      },
      "source": [
        "<a href=\"https://colab.research.google.com/github/JesusBaltierres/Juego/blob/main/Juego_Python.ipynb\" target=\"_parent\"><img src=\"https://colab.research.google.com/assets/colab-badge.svg\" alt=\"Open In Colab\"/></a>"
      ]
    },
    {
      "cell_type": "code",
      "execution_count": null,
      "metadata": {
        "id": "daC6PcvomftX"
      },
      "outputs": [],
      "source": [
        "#Preguntas Juego Python\n",
        "import random \n",
        "\n",
        "#def pausa():\n",
        "#  x = input(\"Presiona una Tecla para Continuar \")\n",
        "\n",
        "preg = [\"Uno\", \"Dos\", \"Tres\", \"Cuatro\", \"Cinco\", \"Seis\", \"Siete\", \"Ocho\", \"Nueve\", \"Diez\"]\n",
        "num = len(preg)\n",
        "print(num)\n",
        "lista = []\n",
        "i = 0\n",
        "while True:\n",
        "    x = random.choice(preg)\n",
        "    #print(f\"{x}\")\n",
        "    if x not in lista:\n",
        "      lista.append(x)\n",
        "      i = i + 1\n",
        "      print(lista)\n",
        "      #pausa()\n",
        "      if i == num:\n",
        "        break\n",
        "\n",
        "print(\"Fin del Programa\")"
      ]
    },
    {
      "cell_type": "code",
      "source": [
        "import yaml\n",
        "import random\n",
        "\n",
        "diccionario = {\"pregunta1\":[\"opcion1\",\"opcion2\"], \"pregunta2\":[\"opcion1\",\"opcion2\"], \"pregunta3\":[\"opcion1\",\"opcion2\"], \"pregunta4\":[\"opcion1\",\"opcion2\"], \"pregunta5\":[\"opcion1\",\"opcion2\"]}\n",
        "\n",
        "x = random.choice(list(diccionario))\n",
        "print(x)\n",
        "print(diccionario.get(x))\n",
        "\n",
        "print(diccionario['pregunta1'][0])\n",
        "print(diccionario['pregunta1'][1])\n",
        "\n",
        "#print(diccionario)\n",
        "#print(yaml.dump(diccionario, sort_keys=False, default_flow_style=False))"
      ],
      "metadata": {
        "id": "gPmRg6iw8KwF"
      },
      "execution_count": null,
      "outputs": []
    },
    {
      "cell_type": "markdown",
      "source": [
        "Aqui esta el codigo"
      ],
      "metadata": {
        "id": "tjZWCoWPNK6E"
      }
    },
    {
      "cell_type": "code",
      "source": [
        "from tkinter import *\n",
        "import random\n",
        "\n",
        "\n",
        "def Pregunta(op):\n",
        "    diccionario = {\"Deseas invertir la mitad de tus acciones por 150,000 dolares? \\n(50% que pierdas el dinero)\": [\"Si\", \"No\"],\n",
        "                   \"Expandiria su empresa al extranjero por un costo de 50,000? \\n(75% de que genere 100,000 dolares)\": [\"Si\", \"No\"],\n",
        "                   \"Deseas invertir la mitad de tu dinero en la bolsa de valores? \\n(Puede que generes 0.5 a 2 veces de ganancias)\": [\"Si\", \"No\"], \n",
        "                   \"Una empresa nueva acaba de abrir cerca de la tuya, te juntarias con ella? \\n(85% de que generes 50,000 dolares)\": [\"Si\", \"No\"],\n",
        "                   \"Un amigo te pide que hagas un trbajo de dudosa procedencia por 50,000 dolares, lo harias? \\n(20% de perder todo el dinero)\": [\"Si\", \"No\"]}\n",
        "\n",
        "    x = random.choice(list(diccionario))\n",
        "    pregunta.set(x)\n",
        "    opcion1.set(diccionario[x][0])\n",
        "    opcion2.set(diccionario[x][1])\n",
        "\n",
        "\n",
        "root = Tk()\n",
        "root.geometry(\"800x500\")\n",
        "root.resizable(False, False)\n",
        "\n",
        "pregunta = StringVar()\n",
        "pregunta.set(\"Pregunta \\n(haz click en uno de los botones para iniciar)\")\n",
        "dinero = StringVar()\n",
        "dinero.set(\"10000\")\n",
        "#dolares = 10000\n",
        "opcion1 = StringVar()\n",
        "opcion1.set(\"Opcion 1\")\n",
        "opcion2 = StringVar()\n",
        "opcion2.set(\"Opcion 2\")\n",
        "\n",
        "lblPregunta = Label(root, textvariable=pregunta, font=(\"Arial\", 12))\n",
        "lblPregunta.pack()\n",
        "lblPregunta.config(bg=\"gray75\")\n",
        "\n",
        "lblDinero = Label(root, textvariable=dinero, font=(\"Arial\", 12))\n",
        "lblDinero.pack()\n",
        "\n",
        "btnOpcion1 = Button(root, text=\"SI\", command=lambda:[Pregunta(1)])\n",
        "btnOpcion1.pack()\n",
        "btnOpcion1.config(bg=\"lime\")\n",
        "btnOpcion1.place(x=200, y=250, width=50, height=50)\n",
        "\n",
        "lblOpcion1 = Label(root, textvariable=opcion1, font=(\"Arial\", 12))\n",
        "lblOpcion1.pack()\n",
        "lblOpcion1.config(bg=\"lime\")\n",
        "lblOpcion1.place(x=150, y=125, width=200, height=100)\n",
        "\n",
        "btnOpcion2 = Button(root, text=\"NO\", command=lambda:[Pregunta(0)])\n",
        "btnOpcion2.pack()\n",
        "btnOpcion2.config(bg=\"red\")\n",
        "btnOpcion2.place(x=500, y=250, width=50, height=50)\n",
        "\n",
        "lblOpcion2 = Label(root, textvariable=opcion2, font=(\"Arial\", 15))\n",
        "lblOpcion2.pack()\n",
        "lblOpcion2.config(bg=\"red\")\n",
        "lblOpcion2.place(x=450, y=125, width=200, height=100)\n",
        "\n",
        "root.mainloop()\n"
      ],
      "metadata": {
        "id": "r33zZrl6NN8l"
      },
      "execution_count": null,
      "outputs": []
    }
  ]
}