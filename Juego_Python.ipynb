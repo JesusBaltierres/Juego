{
  "nbformat": 4,
  "nbformat_minor": 0,
  "metadata": {
    "colab": {
      "provenance": [],
      "include_colab_link": true
    },
    "kernelspec": {
      "name": "python3",
      "display_name": "Python 3"
    },
    "language_info": {
      "name": "python"
    }
  },
  "cells": [
    {
      "cell_type": "markdown",
      "metadata": {
        "id": "view-in-github",
        "colab_type": "text"
      },
      "source": [
        "<a href=\"https://colab.research.google.com/github/JesusBaltierres/Juego/blob/main/Juego_Python.ipynb\" target=\"_parent\"><img src=\"https://colab.research.google.com/assets/colab-badge.svg\" alt=\"Open In Colab\"/></a>"
      ]
    },
    {
      "cell_type": "code",
      "execution_count": null,
      "metadata": {
        "id": "daC6PcvomftX"
      },
      "outputs": [],
      "source": [
        "#Preguntas Juego Python\n",
        "import random \n",
        "\n",
        "#def pausa():\n",
        "#  x = input(\"Presiona una Tecla para Continuar \")\n",
        "\n",
        "preg = [\"Uno\", \"Dos\", \"Tres\", \"Cuatro\", \"Cinco\", \"Seis\", \"Siete\", \"Ocho\", \"Nueve\", \"Diez\"]\n",
        "num = len(preg)\n",
        "print(num)\n",
        "lista = []\n",
        "i = 0\n",
        "while True:\n",
        "    x = random.choice(preg)\n",
        "    #print(f\"{x}\")\n",
        "    if x not in lista:\n",
        "      lista.append(x)\n",
        "      i = i + 1\n",
        "      print(lista)\n",
        "      #pausa()\n",
        "      if i == num:\n",
        "        break\n",
        "\n",
        "print(\"Fin del Programa\")"
      ]
    },
    {
      "cell_type": "code",
      "source": [
        "import yaml\n",
        "import random\n",
        "\n",
        "diccionario = {\"pregunta1\":[\"opcion1\",\"opcion2\"], \"pregunta2\":[\"opcion1\",\"opcion2\"], \"pregunta3\":[\"opcion1\",\"opcion2\"], \"pregunta4\":[\"opcion1\",\"opcion2\"], \"pregunta5\":[\"opcion1\",\"opcion2\"]}\n",
        "\n",
        "x = random.choice(list(diccionario))\n",
        "print(x)\n",
        "print(diccionario.get(x))\n",
        "\n",
        "print(diccionario['pregunta1'][0])\n",
        "print(diccionario['pregunta1'][1])\n",
        "\n",
        "#print(diccionario)\n",
        "#print(yaml.dump(diccionario, sort_keys=False, default_flow_style=False))"
      ],
      "metadata": {
        "colab": {
          "base_uri": "https://localhost:8080/"
        },
        "id": "gPmRg6iw8KwF",
        "outputId": "457ba52b-1a29-4387-bf47-93ad62241016"
      },
      "execution_count": null,
      "outputs": [
        {
          "output_type": "stream",
          "name": "stdout",
          "text": [
            "pregunta3\n",
            "['opcion1', 'opcion2']\n",
            "opcion1\n",
            "opcion2\n"
          ]
        }
      ]
    }
  ]
}