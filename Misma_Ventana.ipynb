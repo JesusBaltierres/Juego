import tkinter as tk   
from tkinter import *             
from tkinter import font  as tkfont 

class cicloGlobal(tk.Tk):

    def __init__(self, *args, **kwargs):
        tk.Tk.__init__(self, *args, **kwargs)

        #self.title_font = tkfont.Font(family='Helvetica', size=18, weight="bold", slant="italic")

        container = tk.Frame(self, bg="Black")
        container.pack(side="top", fill="both", expand=True)
        container.grid_rowconfigure(0, weight=5)
        container.grid_columnconfigure(0, weight=5)

        self.frames = {}
        for F in (Portada, Nombre, PageTwo):
            page_name = F.__name__
            frame = F(parent=container, controller=self)
            self.frames[page_name] = frame

            frame.grid(row=0, column=0, sticky="nsew")

        self.show_frame("Portada")

    def show_frame(self, page_name):
        '''Show a frame for the given page name'''
        frame = self.frames[page_name]
        frame.tkraise()
    
    def salir():
        cicloGlobal.destroy()


class Portada(tk.Frame):

    def __init__(self, parent, controller):
        tk.Frame.__init__(self, parent, bg="Black")
        self.controller = controller
        self.controller.geometry('800x500')

        label = tk.Label(self, text="Choices", bg="Black",fg="White", font=("cursive",25))
        label.pack()

        titulo = tk.Label(self, text="Camino al Millón", bg="Black", fg="White")
        titulo.pack()
        titulo.config(font=("comic sans",20))

        botonJ = PhotoImage(file ="Estilos/botonjugar.png")

        button1 = tk.Button(self, image = botonJ , width=100, height=50, command=lambda: controller.show_frame("Nombre"))
        button2 = tk.Button(self, text="Salir", command=lambda: controller.salir)
        button1.pack(side="top", padx=20, pady=25)
        #button1.config(width=200, height=50,)
        #button1.place(x=100, y=100)
        button2.pack(side="top", padx=20, pady=25)
        button2.config(width=15, height=2)
        #button2.place()


class Nombre(tk.Frame):

    def __init__(self, parent, controller):
        tk.Frame.__init__(self, parent)
        self.controller = controller
        label = tk.Label(self, text="This is page 1", font=("cursive",25))
        label.pack(side="top", fill="x", pady=10)
        button = tk.Button(self, text="Go to the start page", command=lambda: controller.show_frame("Portada"))
        button.pack()


class Sexo(tk.Frame):

    def __init__(self, parent, controller):
        tk.Frame.__init__(self, parent)
        self.controller = controller
        label = tk.Label(self, text="This is page 2", font=("cursive",25))
        label.pack(side="top", fill="x", pady=10)
        button = tk.Button(self, text="Go to the start page", command=lambda: controller.show_frame("Portada"))
        button.pack()


if __name__ == "__main__":
    app = cicloGlobal()
    app.mainloop()
