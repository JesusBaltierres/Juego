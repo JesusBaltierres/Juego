{
  "nbformat": 4,
  "nbformat_minor": 0,
  "metadata": {
    "colab": {
      "provenance": [],
      "authorship_tag": "ABX9TyMv+2WA2o6+a1q4DjQP1IBO",
      "include_colab_link": true
    },
    "kernelspec": {
      "name": "python3",
      "display_name": "Python 3"
    },
    "language_info": {
      "name": "python"
    }
  },
  "cells": [
    {
      "cell_type": "markdown",
      "metadata": {
        "id": "view-in-github",
        "colab_type": "text"
      },
      "source": [
        "<a href=\"https://colab.research.google.com/github/JesusBaltierres/Juego/blob/main/Misma_Ventana.ipynb\" target=\"_parent\"><img src=\"https://colab.research.google.com/assets/colab-badge.svg\" alt=\"Open In Colab\"/></a>"
      ]
    },
    {
      "cell_type": "code",
      "execution_count": null,
      "metadata": {
        "id": "X4j2ZjRYSWCh"
      },
      "outputs": [],
      "source": [
        "import tkinter as tk                # python 3\n",
        "from tkinter import font  as tkfont # python 3\n",
        "#import Tkinter as tk     # python 2\n",
        "#import tkFont as tkfont  # python 2\n",
        "\n",
        "class SampleApp(tk.Tk):\n",
        "\n",
        "    def _init_(self, *args, **kwargs):\n",
        "        tk.Tk._init_(self, *args, **kwargs)\n",
        "\n",
        "        self.title_font = tkfont.Font(family='Helvetica', size=18, weight=\"bold\", slant=\"italic\")\n",
        "\n",
        "        # the container is where we'll stack a bunch of frames\n",
        "        # on top of each other, then the one we want visible\n",
        "        # will be raised above the others\n",
        "        container = tk.Frame(self)\n",
        "        container.pack(side=\"top\", fill=\"both\", expand=True)\n",
        "        container.grid_rowconfigure(0, weight=1)\n",
        "        container.grid_columnconfigure(0, weight=1)\n",
        "\n",
        "        self.frames = {}\n",
        "        for F in (StartPage, PageOne, PageTwo):\n",
        "            page_name = F._name_\n",
        "            frame = F(parent=container, controller=self)\n",
        "            self.frames[page_name] = frame\n",
        "\n",
        "            # put all of the pages in the same location;\n",
        "            # the one on the top of the stacking order\n",
        "            # will be the one that is visible.\n",
        "            frame.grid(row=0, column=0, sticky=\"nsew\")\n",
        "\n",
        "        self.show_frame(\"StartPage\")\n",
        "\n",
        "    def show_frame(self, page_name):\n",
        "        '''Show a frame for the given page name'''\n",
        "        frame = self.frames[page_name]\n",
        "        frame.tkraise()\n",
        "\n",
        "\n",
        "class StartPage(tk.Frame):\n",
        "\n",
        "    def _init_(self, parent, controller):\n",
        "        tk.Frame._init_(self, parent)\n",
        "        self.controller = controller\n",
        "        label = tk.Label(self, text=\"This is the start page\", font=controller.title_font)\n",
        "        label.pack(side=\"top\", fill=\"x\", pady=10)\n",
        "\n",
        "        button1 = tk.Button(self, text=\"Go to Page One\",\n",
        "                            command=lambda: controller.show_frame(\"PageOne\"))\n",
        "        button2 = tk.Button(self, text=\"Go to Page Two\",\n",
        "                            command=lambda: controller.show_frame(\"PageTwo\"))\n",
        "        button1.pack()\n",
        "        button2.pack()\n",
        "\n",
        "\n",
        "class PageOne(tk.Frame):\n",
        "\n",
        "    def _init_(self, parent, controller):\n",
        "        tk.Frame._init_(self, parent)\n",
        "        self.controller = controller\n",
        "        label = tk.Label(self, text=\"This is page 1\", font=controller.title_font)\n",
        "        label.pack(side=\"top\", fill=\"x\", pady=10)\n",
        "        button = tk.Button(self, text=\"Go to the start page\",\n",
        "                           command=lambda: controller.show_frame(\"StartPage\"))\n",
        "        button.pack()\n",
        "\n",
        "\n",
        "class PageTwo(tk.Frame):\n",
        "\n",
        "    def _init_(self, parent, controller):\n",
        "        tk.Frame._init_(self, parent)\n",
        "        self.controller = controller\n",
        "        label = tk.Label(self, text=\"This is page 2\", font=controller.title_font)\n",
        "        label.pack(side=\"top\", fill=\"x\", pady=10)\n",
        "        button = tk.Button(self, text=\"Go to the start page\",\n",
        "                           command=lambda: controller.show_frame(\"StartPage\"))\n",
        "        button.pack()\n",
        "\n",
        "\n",
        "if _name_ == \"_main_\":\n",
        "    app = SampleApp()\n",
        "    app.mainloop()"
      ]
    }
  ]
}